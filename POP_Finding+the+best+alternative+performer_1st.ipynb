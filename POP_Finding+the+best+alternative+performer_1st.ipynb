{
 "cells": [
  {
   "cell_type": "markdown",
   "metadata": {},
   "source": [
    "# 3rd Session - Finding alternative process performers\n",
    "\n",
    "made by 임지택\n",
    "\n",
    "- 어떠한 프로세스를 수행할 때 각각의 activity들에게 적절한 수행자가 assign 되어있습니다.\n",
    "- 그러나 현직 수행자가 수행함에 있어서 문제가 발생하여 해당 activity를 수행 할 수 없는 상황이 발생 할 수 있습니다.\n",
    "- 이럴 경우 회사에서는 그 activity를 가장 잘 수행 할 수 있는 사람을 골라 대체시켜야 합니다.\n",
    "- 여러 alternative들 중에 best performer를 고르기 위해서는 3가지 관점을 고려해야 합니다.\n",
    "\n",
    "\n",
    "    - Task execution\n",
    "    - Transfer of work\n",
    "    - Cycle time of an activity\n",
    "\n",
    "\n",
    "\n",
    "- 이 3가지 관점에 각각 weight를 줘서 최종적으로 score가 가장 높은 사람이 최적의 alternative performer를 찾습니다.\n",
    "\n",
    "\n",
    "![excel_file](excel_file.png)"
   ]
  },
  {
   "cell_type": "code",
   "execution_count": 1,
   "metadata": {
    "collapsed": true
   },
   "outputs": [],
   "source": [
    "import pandas as pd\n",
    "from collections import Counter\n",
    "import tkinter as tk\n",
    "import networkx as nx   \n",
    "from datetime import datetime\n",
    "import duration\n"
   ]
  },
  {
   "cell_type": "markdown",
   "metadata": {},
   "source": [
    "- tkinter: 파이썬에서 제공하는 gui 라이브러리, ui를 만들 시간이 많지 않아서 그냥 이걸로 썼습니다.\n",
    "- duration: 시각을 표현하는데 있어서 초로 바꾸기 위하여 썼습니다."
   ]
  },
  {
   "cell_type": "code",
   "execution_count": 4,
   "metadata": {
    "collapsed": true
   },
   "outputs": [],
   "source": [
    "def importfiles(f,rows,columns,activity,exe_weight,trans_weight,time_weight):\n",
    "    f1 = open(f,'r')\n",
    "    data =[]\n",
    "    \n",
    "    for line in f1:\n",
    "        split_line=line.split(',')\n",
    "        data.append(split_line)\n",
    "    \n",
    "    f1.close()\n",
    "    headers = data[0]\n",
    "    \n",
    "    data = data[1:len(data)]\n",
    "    apending = pd.DataFrame(data,columns =headers)\n",
    "          \n",
    "    activity_user = apending.groupby('Activity')['Resource'].apply(list)\n",
    "    \n",
    "    column = [i for i in range(len(columns))]"
   ]
  },
  {
   "cell_type": "markdown",
   "metadata": {},
   "source": [
    "- 먼저 importfiles라는 함수를 만들었는데 import기능만 넣을려고 했는데 막코딩을 하다보니 저 함수 안에 모든 코드를 넣어버렸습니다...(코드가 많이 지저분하다는 점 죄송합니다)\n",
    "\n",
    "- parameters로 무려 7가지를 받는데 다음과 같습니다 \n",
    "\n",
    "(솔직히 지금 보니깐 참으로 헛짓거리를 많이 했다는 생각이 드네요...또 한번 죄송합니다.)\n",
    "\n",
    "\n",
    "    - 파일 이름\n",
    "    - row 이름\n",
    "    - column 이름\n",
    "    - acitivty 이름\n",
    "    - task execution의 weight\n",
    "    - transfer of work의 weight\n",
    "    - cycle time의 weight\n",
    "\n",
    "activity_user![](activity_user.png)\n"
   ]
  },
  {
   "cell_type": "code",
   "execution_count": 5,
   "metadata": {
    "collapsed": true
   },
   "outputs": [
    {
     "ename": "NameError",
     "evalue": "name 'rows' is not defined",
     "output_type": "error",
     "traceback": [
      "\u001b[0;31m---------------------------------------------------------------------------\u001b[0m",
      "\u001b[0;31mNameError\u001b[0m                                 Traceback (most recent call last)",
      "\u001b[0;32m<ipython-input-5-53cd031f20f1>\u001b[0m in \u001b[0;36m<module>\u001b[0;34m()\u001b[0m\n\u001b[0;32m----> 1\u001b[0;31m \u001b[0mmatrix_activity\u001b[0m \u001b[1;33m=\u001b[0m \u001b[0mpd\u001b[0m\u001b[1;33m.\u001b[0m\u001b[0mDataFrame\u001b[0m\u001b[1;33m(\u001b[0m\u001b[0mindex\u001b[0m \u001b[1;33m=\u001b[0m \u001b[0mrows\u001b[0m\u001b[1;33m,\u001b[0m \u001b[0mcolumns\u001b[0m \u001b[1;33m=\u001b[0m \u001b[0mcolumn\u001b[0m\u001b[1;33m)\u001b[0m\u001b[1;33m\u001b[0m\u001b[0m\n\u001b[0m\u001b[1;32m      2\u001b[0m \u001b[1;33m\u001b[0m\u001b[0m\n\u001b[1;32m      3\u001b[0m \u001b[0ma\u001b[0m \u001b[1;33m=\u001b[0m \u001b[0mlist\u001b[0m\u001b[1;33m(\u001b[0m\u001b[1;33m)\u001b[0m\u001b[1;33m\u001b[0m\u001b[0m\n\u001b[1;32m      4\u001b[0m \u001b[1;32mfor\u001b[0m \u001b[0mi\u001b[0m \u001b[1;32min\u001b[0m \u001b[0mrange\u001b[0m\u001b[1;33m(\u001b[0m\u001b[0mlen\u001b[0m\u001b[1;33m(\u001b[0m\u001b[0mactivity_user\u001b[0m\u001b[1;33m)\u001b[0m\u001b[1;33m)\u001b[0m\u001b[1;33m:\u001b[0m\u001b[1;33m\u001b[0m\u001b[0m\n\u001b[1;32m      5\u001b[0m     \u001b[0ma\u001b[0m\u001b[1;33m.\u001b[0m\u001b[0mappend\u001b[0m\u001b[1;33m(\u001b[0m\u001b[1;33m[\u001b[0m\u001b[1;33m[\u001b[0m\u001b[0mx\u001b[0m\u001b[1;33m,\u001b[0m\u001b[1;33m(\u001b[0m\u001b[0mactivity_user\u001b[0m\u001b[1;33m.\u001b[0m\u001b[0mvalues\u001b[0m\u001b[1;33m[\u001b[0m\u001b[0mi\u001b[0m\u001b[1;33m]\u001b[0m\u001b[1;33m)\u001b[0m\u001b[1;33m.\u001b[0m\u001b[0mcount\u001b[0m\u001b[1;33m(\u001b[0m\u001b[0mx\u001b[0m\u001b[1;33m)\u001b[0m\u001b[1;33m]\u001b[0m \u001b[1;32mfor\u001b[0m \u001b[0mx\u001b[0m \u001b[1;32min\u001b[0m \u001b[0mset\u001b[0m\u001b[1;33m(\u001b[0m\u001b[0mactivity_user\u001b[0m\u001b[1;33m.\u001b[0m\u001b[0mvalues\u001b[0m\u001b[1;33m[\u001b[0m\u001b[0mi\u001b[0m\u001b[1;33m]\u001b[0m\u001b[1;33m)\u001b[0m\u001b[1;33m]\u001b[0m\u001b[1;33m)\u001b[0m\u001b[1;33m\u001b[0m\u001b[0m\n",
      "\u001b[0;31mNameError\u001b[0m: name 'rows' is not defined"
     ]
    }
   ],
   "source": [
    "    matrix_activity = pd.DataFrame(index = rows, columns = column)\n",
    "\n",
    "    a = list()\n",
    "    for i in range(len(activity_user)):\n",
    "        a.append([[x,(activity_user.values[i]).count(x)] for x in set(activity_user.values[i])])\n",
    "\n",
    "    for k in range(len(a)):\n",
    "        for i in range(len(matrix_activity)):\n",
    "            for j in range(len(a[k])):\n",
    "                if matrix_activity.index[i] == a[k][j][0]:\n",
    "                    matrix_activity.loc[a[k][j][0],k] =a[k][j][1]\n",
    "\n",
    "    matrix_activity = matrix_activity.fillna(0)\n",
    "    matrix_activity.columns = columns\n",
    "\n",
    "\n",
    "    matrix_activity = matrix_activity[activity]\n",
    "    matrix_activity = matrix_activity[matrix_activity>0]\n",
    "        "
   ]
  },
  {
   "cell_type": "markdown",
   "metadata": {},
   "source": [
    "- task execution에 관한 matrix_activity matrix를 만듭니다.\n",
    "\n",
    "matrix_activity\n",
    "![center](matrix_activity.png)"
   ]
  },
  {
   "cell_type": "code",
   "execution_count": null,
   "metadata": {
    "collapsed": true
   },
   "outputs": [],
   "source": [
    "    matrix_handover = pd.DataFrame(index = rows, columns = rows)\n",
    "    \n",
    "    activities = apending[apending['Activity'] == activity]\n",
    "    pendingindex = activities.index\n",
    "    pendingindex = list(pendingindex)\n",
    "    \n",
    "    def getbeforeafter(a):\n",
    "        newindex=list()\n",
    "        for i in range(len(a)):\n",
    "            x=0\n",
    "            y=0\n",
    "            if a[i] == 0:\n",
    "                return\n",
    "            else:\n",
    "                x = a[i]-1\n",
    "                y = a[i]+1\n",
    "            newindex.append(x)\n",
    "            newindex.append(a[i])\n",
    "            newindex.append(y)\n",
    "\n",
    "        return newindex\n",
    "    \n",
    "    newindex = getbeforeafter(pendingindex)"
   ]
  },
  {
   "cell_type": "code",
   "execution_count": null,
   "metadata": {
    "collapsed": true
   },
   "outputs": [],
   "source": [
    "    new = list()\n",
    "    for i in range(len(newindex)):\n",
    "        new.append(apending[apending.index == newindex[i]])\n",
    "    \n",
    "    new_pd = pd.DataFrame(new[0])\n",
    "    \n",
    "    for i in range(1,len(new)):\n",
    "        new_pd = new_pd.append(new[i])\n",
    "           \n",
    "    handover_user = apending.groupby('Case ID')['Resource'].apply(list)\n",
    "    handover_user = list(handover_user)\n",
    "    \n",
    "    \n",
    "    hand = list()\n",
    "    for i in range(len(handover_user)):\n",
    "        for j in range(len(handover_user[i])-1):\n",
    "            hand.append((handover_user[i][j],handover_user[i][j+1]))    \n",
    "    \n",
    "    aca = Counter(hand)\n",
    "    \n",
    "    usertouser = aca.keys()\n",
    "    usertouser = list(usertouser)\n",
    "    \n",
    "    usertofreq = aca.values()\n",
    "    usertofreq = list(usertofreq)\n",
    "    \n",
    "    for i in range(len(matrix_handover)):\n",
    "        for j in range(len(matrix_handover)):    \n",
    "            for k in range(len(usertouser)):\n",
    "                if (matrix_handover.index[i] == usertouser[k][0]) and (matrix_handover.columns[j] == usertouser[k][1]):\n",
    "                    matrix_handover.loc[usertouser[k][0],usertouser[k][1]] = usertofreq[k]\n",
    "                    \n",
    "                    \n",
    "    matrix_handover = matrix_handover.fillna(0)"
   ]
  },
  {
   "cell_type": "markdown",
   "metadata": {},
   "source": [
    "- Transfer of work에 관한 matrix_handover matrix를 만듭니다.\n",
    "\n",
    "matrix_handover\n",
    "\n",
    "![center](matrix_handover.png)"
   ]
  },
  {
   "cell_type": "code",
   "execution_count": null,
   "metadata": {
    "collapsed": true
   },
   "outputs": [],
   "source": [
    "    timediff = list()\n",
    "    \n",
    "    activities = activities.reset_index()\n",
    "    \n",
    "    for i in range(len(activities)):\n",
    "        time =datetime.strptime(activities['Start Timestamp'][i],'%Y-%m-%d %H:%M') -datetime.strptime(activities['Complete Timestamp'][i],'%Y-%m-%d %H:%M')\n",
    "        timediff.append(time)\n",
    "    \n",
    "    timediff = list(timediff)\n",
    "    \n",
    "    timeinsecond= list()\n",
    "    for i in range(len(timediff)):\n",
    "        timeinsecond.append(duration.to_seconds(timediff[i]))\n",
    "    \n",
    "    timedf = pd.DataFrame(index= activities['Resource'])\n",
    "    timedf['timediff'] = timeinsecond\n",
    "    \n",
    "    timedf = timedf.groupby(timedf.index)['timediff'].sum()\n",
    "    timedf = timedf[timedf >0]      \n",
    "    \n",
    "    time_total = pd.DataFrame(index = users_index, columns = users_index)\n",
    "    \n",
    "    \n",
    "    for i in range(len(time_total)):\n",
    "        for j in range(len(time_total)):\n",
    "            if (time_total.index[i] in timedf.index) and (time_total.columns[j] in timedf.index):\n",
    "                if (timedf.loc[time_total.index[i]] != 0) and (timedf.loc[time_total.index[j]] != 0): #¼ýÀÚ/¼ýÀÚ                 \n",
    "                    time_total.loc[time_total.index[i],time_total.columns[j]] = timedf.loc[time_total.columns[j]] / timedf.loc[time_total.index[i]]                                                   \n",
    "            else:\n",
    "                time_total.loc[time_total.index[i],time_total.columns[j]] = 0\n",
    "    \n",
    "    for i in range(len(time_total)):\n",
    "        for j in range(len(time_total)):\n",
    "            if time_total.loc[time_total.index[i]][j] !=0:\n",
    "                time_total.loc[time_total.index[i]][j] = 1.0/time_total.loc[time_total.index[i]][j]"
   ]
  },
  {
   "cell_type": "markdown",
   "metadata": {},
   "source": [
    "- Cycle time of specific activity에 관한 time_total matrix를 만듭니다.\n",
    "\n",
    "time_total\n",
    "![center](DOS_time.png)"
   ]
  },
  {
   "cell_type": "code",
   "execution_count": null,
   "metadata": {
    "collapsed": true
   },
   "outputs": [],
   "source": [
    "    def doscalculator(a,b):\n",
    "        x=0.0\n",
    "        y=0.0\n",
    "        for i in range(len(a)):\n",
    "            if a[i] > b[i]:\n",
    "                x+= b[i]/a[i]\n",
    "            elif a[i] < b[i]: \n",
    "                x+=1\n",
    "            if a[i] > 0:\n",
    "                y+=1\n",
    "            else:\n",
    "                y+=0\n",
    "                \n",
    "        return x/y   \n",
    "    \n",
    "    DOS_task = pd.DataFrame(index = rows, columns = rows)\n",
    "    \n",
    "    for i in range(len(DOS_task)):\n",
    "        for j in range(len(DOS_task)):\n",
    "            if i ==j:\n",
    "                DOS_task.loc[DOS_task.index[i],DOS_task.columns[j]] = 1\n",
    "            if (DOS_task.index[i] in matrix_activity.index) and (DOS_task.columns[j] in matrix_activity.index):\n",
    "                DOS_task.loc[DOS_task.index[i],DOS_task.columns[j]] = matrix_activity.loc[DOS_task.columns[j]] / matrix_activity.loc[DOS_task.index[i]]\n",
    "            else:\n",
    "                DOS_task.loc[DOS_task.index[i],DOS_task.columns[j]] =0        \n",
    "\n",
    "        \n",
    "    DOS_transfer = pd.DataFrame(index = rows, columns = rows)\n",
    "    \n",
    "    for i in range(len(DOS_transfer)):\n",
    "        for j in range(len(DOS_transfer)):\n",
    "            DOS_transfer.loc[DOS_transfer.index[i],DOS_transfer.columns[j]] = doscalculator(list(matrix_handover.loc[DOS_transfer.index[i],]),list(matrix_handover.loc[DOS_transfer.columns[j]]))\n",
    "            if i==j:\n",
    "                DOS_transfer.loc[DOS_transfer.index[i],DOS_transfer.columns[j]] = 1"
   ]
  },
  {
   "cell_type": "markdown",
   "metadata": {},
   "source": [
    "- 여기서 DOS라는 개념을 저희 연구실 형한테 아이디어를 빌렸습니다.\n",
    "- DOS는 Degree Of Substitution의 약자인데 두 명의 performer가 있고 그들의 profile이 각각 존재합니다.\n",
    "    - A = {a1,a2,a3, ... ,an}\n",
    "    - B = {b1,b2,b3, ..., bn}\n",
    "    \n",
    "- B가 A를 대체할 DOS값은 다음과 같이 정의됩니다.\n",
    "\n",
    "![](DOS.png)\n",
    "\n",
    "- 앞에서 구한 두가지 matrix 즉, matrix_activity 와 matrix_handover에 대해 DOS 연산을 실행해준 뒤 DOS_task와 DOS_transfer dataframe에 넣어줍니다.\n",
    "\n",
    "\n",
    "\n",
    "\n",
    "DOS_task\n",
    "![](DOS_task.png)\n",
    "\n",
    "\n",
    "\n",
    "DOS_transfer\n",
    "![](DOS_transfer.png)"
   ]
  },
  {
   "cell_type": "code",
   "execution_count": null,
   "metadata": {
    "collapsed": true
   },
   "outputs": [],
   "source": [
    "    Exe_weight = exe_weight\n",
    "    Trans_weight = trans_weight\n",
    "    Time_weight = time_weight\n",
    "    \n",
    "    DOS_Time = pd.DataFrame(index = users_index, columns = users_index)\n",
    "    \n",
    "    for i in range(len(DOS_Time)):\n",
    "        for j in range(len(DOS_Time)):\n",
    "            DOS_Time.loc[DOS_Time.index[i]][j]  = DOS_task.loc[DOS_task.index[i]][j]*Exe_weight + DOS_transfer.loc[DOS_transfer.index[i]][j]*Trans_weight + time_total.loc[time_total.index[i]][j]*Time_weight\n",
    "        \n",
    "    realmax = list()            \n",
    "    for i in range(len(DOS_Time)):\n",
    "        values = set(list(DOS_Time.loc[DOS_Time.index[i]]))\n",
    "        values.discard(DOS_Time.loc[DOS_Time.index[i]][i])\n",
    "        realmax.append(max(values))            \n",
    "    \n",
    "    indices = list()\n",
    "    for i in range(len(realmax)):\n",
    "        indices.append(list(DOS_Time.loc[DOS_Time.index[i]]).index(realmax[i]))   \n",
    "        \n",
    "    bestresourceindex = [str(i+1) for i in indices]\n",
    "    \n",
    "        \n",
    "    Bestresource = pd.DataFrame(index = users_index)\n",
    "        \n",
    "    Bestresource['Replace resource'] = bestresourceindex\n",
    "    Bestresource['Replace score'] = realmax"
   ]
  },
  {
   "cell_type": "markdown",
   "metadata": {},
   "source": [
    "- 3개의 matrix에 대해서 weight를 부여하여 최종적인 dataframe인 Bestresource를 만듭니다."
   ]
  },
  {
   "cell_type": "code",
   "execution_count": null,
   "metadata": {
    "collapsed": true
   },
   "outputs": [],
   "source": [
    "    class SampleApp(tk.Tk):\n",
    "        def __init__(self, *args, **kwargs):\n",
    "            tk.Tk.__init__(self, *args, **kwargs)\n",
    "            lb = tk.Listbox(self)\n",
    "            for i in range(len(DOS_Time.index)):\n",
    "                lb.insert(\"end\",DOS_Time.index[i])\n",
    "            lb.bind(\"<Double-Button-1>\", self.OnDouble)\n",
    "            lb.pack(side=\"top\", fill=\"both\", expand=True)\n",
    "    \n",
    "        def OnDouble(self, event):\n",
    "            widget = event.widget\n",
    "            selection=widget.curselection()\n",
    "            value = widget.get(selection[0])\n",
    "            print(\"selection:\", selection, \": '%s'\" % value)\n",
    "            g = nx.Graph()\n",
    "            for i in range(len(DOS_Time.columns)):\n",
    "                g.add_edge(value,DOS_Time.columns[i], weight = DOS_Time[value][i])\n",
    "            nx.draw_networkx(g)\n",
    "            plt.show()\n",
    "            print(DOS_Time.loc[value])\n",
    "            print(\"Best resource is\" ,Bestresource.loc[value][0], \"and its score is\" ,Bestresource.loc[value][1])\n",
    "    \n",
    "    if __name__ == \"__main__\":\n",
    "        app = SampleApp()\n",
    "        app.mainloop()\n",
    "        \n",
    "    return Bestresource"
   ]
  },
  {
   "cell_type": "markdown",
   "metadata": {},
   "source": [
    "- 원래 계획에는 없었지만 교수님의 제안으로 ui를 만들었습니다.\n",
    "- 몇일 밖에 남지 않아서 tkinter를 사용하였고 코드도 구글링으로 가져온거라 왜이렇게 짰다고 물어보신다면 잘 모릅니다.\n",
    "- 먼저 listbox를 만들고 대체할 performer를 선택하면 거기에 해당되는 최적의 alternative performer가 출력이 되고 나머지 사람들에 대한 score값도 제공이 됩니다.\n",
    "\n",
    "![center](listbox.png)\n",
    "![center](result_2.1.png)\n",
    "![center](result_3.png)"
   ]
  },
  {
   "cell_type": "code",
   "execution_count": null,
   "metadata": {
    "collapsed": true
   },
   "outputs": [],
   "source": [
    "columnss = ['A_Accepted', 'A_Complete', 'A_Concept', 'A_Create Application',\n",
    "       'A_Incomplete', 'A_Pending', 'A_Submitted', 'A_Validating',\n",
    "       'O_Accepted', 'O_Cancelled', 'O_Create Offer', 'O_Created',\n",
    "       'O_Returned', 'O_Sent (mail and online)', 'O_Sent (online only)',\n",
    "       'W_Assess potential fraud', 'W_Call after offers',\n",
    "       'W_Call incomplete files', 'W_Complete application', 'W_Handle leads',\n",
    "       'W_Shortened completion', 'W_Validate application']\n",
    "users_index = ['User_'+str(i) for i in range(1,144)]\n",
    "\n",
    "activity = 'W_Validate application'\n",
    "exe_weight = 0.3\n",
    "trans_weight = 0.1\n",
    "time_weight =0.6\n",
    "\n",
    "importfiles('D:\\\\Apending_time.csv',users_index,columnss,activity,exe_weight,trans_weight, time_weight)\n",
    "\n"
   ]
  }
 ],
 "metadata": {
  "kernelspec": {
   "display_name": "Python 3",
   "language": "python",
   "name": "python3"
  },
  "language_info": {
   "codemirror_mode": {
    "name": "ipython",
    "version": 3
   },
   "file_extension": ".py",
   "mimetype": "text/x-python",
   "name": "python",
   "nbconvert_exporter": "python",
   "pygments_lexer": "ipython3",
   "version": "3.4.4"
  }
 },
 "nbformat": 4,
 "nbformat_minor": 2
}
