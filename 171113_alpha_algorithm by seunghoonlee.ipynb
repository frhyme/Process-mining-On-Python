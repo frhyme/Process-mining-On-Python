{
 "cells": [
  {
   "cell_type": "markdown",
   "metadata": {},
   "source": [
    "# 1st session - alpha algorithm\n",
    "\n",
    "made by 이승훈\n",
    "\n",
    "- 알파알고리즘을 구현해봤습니다. \n",
    "- 알파알고리즘은 이벤트 로그로부터 페트리넷을 뽑아내는 알고리즘입니다. \n",
    "- 사실, Process mining같은 책에서 제시하는 기본 알파 알고리즘의 경우는\n",
    "    - activity의 frequency를 고려하지 않는데, 예를 들어서 1번이 나오든 10000번이 나오든 모두 반영되고\n",
    "    - loop, non-local dependency를 고려하지 않는 것 등의 문제가 있긴 합니다. \n",
    "        - non-local dependency: 직접 연결되어 있지 않은 액티비티 간의 관계\n",
    "            - (a, c, d), (b, c, f): a ==> d, b ==> f는 관계되어 있지만, 직접 연결되어 있지 않음\n",
    "- 아무튼, 그래도, 제일 먼저 나온 알고리즘이라서 구현을 해봤습니다. \n",
    "- BPI challenge log 같은 복잡하고, 많은 데이터를 가지고 하는 것보다는, 우선 간단한 예로 보기 편할 것 같아서, 간단한 예제로 만들어 봤습니다. "
   ]
  },
  {
   "cell_type": "markdown",
   "metadata": {},
   "source": [
    "## required library\n",
    "\n",
    "- `matplotlib.pyplot`: 그림 그리는 라이브러리(페트리넷 그릴 때 사용)\n",
    "- `datetime`: 파이썬에서 쓰는 시간, 날짜 관리 라이브러리(오늘은 사용하지 않음)\n",
    "- `networkx`: 프로세스 모델도 업무간의 관계를 표현한 데이터 구조이고, 이를 효과적으로 담기 위해서는 네트워크를 관리하기 위한 라이브러리가 필요함\n",
    "- `itertools`, `functools`: 몇 가지 유용한 툴\n",
    "- `time`: computation time logging을 위한 툴 \n",
    "- `seaborn`: 그림을 좀 더 예쁘게 만들어주는 라이브러리, 경우에 따라서 그냥 import 만 해줘도, 없을때보다 예쁘게 만들어줌 "
   ]
  },
  {
   "cell_type": "code",
   "execution_count": 331,
   "metadata": {
    "collapsed": true
   },
   "outputs": [],
   "source": [
    "%matplotlib inline \n",
    "import pandas as pd\n",
    "import seaborn as sns\n",
    "import matplotlib.pyplot as plt\n",
    "import datetime as dt\n",
    "import networkx as nx\n",
    "import itertools as ittls\n",
    "import functools \n",
    "import numpy as np\n",
    "import time"
   ]
  },
  {
   "cell_type": "markdown",
   "metadata": {},
   "source": [
    "## time_logger\n",
    "\n",
    "- 각 함수가 얼마나 빠른지 확인하고 싶은데, 매번 함수 내에 시작시간, 종료시간을 출력하는 기능을 정의하는 건 귀찮음\n",
    "- 따라서, 함수를 받아서, 앞 뒤로, 시작 시간, 종료시간을 출력해주는 기능을 포함한 함수를 리턴해주는 함수(wrapper)를 정의함\n",
    "    - input: function\n",
    "    - output: function with extension"
   ]
  },
  {
   "cell_type": "code",
   "execution_count": 332,
   "metadata": {
    "collapsed": true
   },
   "outputs": [],
   "source": [
    "def time_logger(func):\n",
    "    def wrapper(*args, **kwargs):\n",
    "        start = time.time()\n",
    "        result =func(*args, **kwargs)\n",
    "        complete = time.time()\n",
    "        print(\"computation time: {}\".format(complete-start))\n",
    "        return func(*args, **kwargs)\n",
    "    return wrapper"
   ]
  },
  {
   "cell_type": "markdown",
   "metadata": {},
   "source": [
    "## toy_example\n",
    "- 간단하게 쓸 수 있는 toy example을 만들었습니다. \n",
    "- 2-dimension lst, each element is activity trace"
   ]
  },
  {
   "cell_type": "code",
   "execution_count": 333,
   "metadata": {},
   "outputs": [
    {
     "name": "stdout",
     "output_type": "stream",
     "text": [
      "1 trace: ['a', 'b', 'e', 'f']\n",
      "2 trace: ['a', 'b', 'e', 'f']\n",
      "3 trace: ['a', 'b', 'e', 'c', 'd', 'b', 'f']\n",
      "4 trace: ['a', 'b', 'e', 'c', 'd', 'b', 'f']\n",
      "5 trace: ['a', 'b', 'e', 'c', 'd', 'b', 'f']\n",
      "6 trace: ['a', 'b', 'c', 'e', 'd', 'b', 'f']\n",
      "7 trace: ['a', 'b', 'c', 'e', 'd', 'b', 'f']\n",
      "8 trace: ['a', 'b', 'c', 'd', 'e', 'b', 'f']\n",
      "9 trace: ['a', 'b', 'c', 'd', 'e', 'b', 'f']\n",
      "10 trace: ['a', 'b', 'c', 'd', 'e', 'b', 'f']\n",
      "11 trace: ['a', 'b', 'c', 'd', 'e', 'b', 'f']\n",
      "12 trace: ['a', 'e', 'b', 'c', 'd', 'b', 'f']\n",
      "13 trace: ['a', 'e', 'b', 'c', 'd', 'b', 'f']\n",
      "14 trace: ['a', 'e', 'b', 'c', 'd', 'b', 'f']\n"
     ]
    }
   ],
   "source": [
    "log5 = [['a', 'b', 'e', 'f']]*2 + [['a', 'b', 'e', 'c', 'd', 'b', 'f']]*3 + [['a', 'b', 'c', 'e', 'd', 'b', 'f']]*2\n",
    "log5 += [['a', 'b', 'c', 'd', 'e', 'b', 'f']]*4 + [['a', 'e', 'b', 'c', 'd', 'b', 'f']]*3\n",
    "for i, trace in enumerate(log5):\n",
    "    print(\"{} trace: {}\".format(i+1, trace))"
   ]
  },
  {
   "cell_type": "markdown",
   "metadata": {},
   "source": [
    "## functools.reduce\n",
    "\n",
    "- `functools` 에는 `reduce`라는 함수가 있습니다. \n",
    "- 설명하기 귀찮긴 한데, 재귀적인 함수라고 생각하시면 좋아요. 아래 그림을 봅시다. \n",
    "- 이걸 쓰는 이유는, 그냥 제가 쓰다보니 쓰게 되었습니당\n",
    "\n",
    "![functoos.reduce](https://www.python-course.eu/images/reduce.png)"
   ]
  },
  {
   "cell_type": "code",
   "execution_count": 334,
   "metadata": {},
   "outputs": [
    {
     "name": "stdout",
     "output_type": "stream",
     "text": [
      "36\n",
      "40320\n",
      "[1, 2, 3, 4, 5, 6]\n"
     ]
    }
   ],
   "source": [
    "a = np.arange(1, 9)\n",
    "print( functools.reduce(lambda x, y: x+y, a))\n",
    "print( functools.reduce(lambda x, y: x*y, a))\n",
    "print( functools.reduce(lambda x, y: x+y, [[1,2,3], [4,5,6]]))"
   ]
  },
  {
   "cell_type": "markdown",
   "metadata": {},
   "source": [
    "## what is the fastest way?\n",
    "- 세가지로 풀어봤습니다. \n",
    "    1. with list comprehension\n",
    "    2. with functools.reduce\n",
    "    3. with basic way\n",
    "- 제 의도는....`functools.reduce`가 이렇게 빠릅니다 여러분!! 이었지만, 그냥 아주 간단하게 짜는게 제일 빨라요.."
   ]
  },
  {
   "cell_type": "code",
   "execution_count": 335,
   "metadata": {},
   "outputs": [
    {
     "name": "stdout",
     "output_type": "stream",
     "text": [
      "computation time: 0.0074994564056396484\n",
      "['a', 'b', 'c', 'd', 'e', 'f']\n",
      "computation time: 0.559004545211792\n",
      "['a', 'b', 'c', 'd', 'e', 'f']\n",
      "computation time: 0.004998445510864258\n",
      "['a', 'b', 'e', 'f', 'c', 'd']\n"
     ]
    }
   ],
   "source": [
    "test_log = log5*500\n",
    "@time_logger\n",
    "def return_unique_activities(input_log):\n",
    "    a = [log_instance[i] for log_instance in input_log for i in range(0, len(log_instance))]\n",
    "    return sorted(list(set(a)))\n",
    "@time_logger\n",
    "def return_unique_activities_with_reduce(input_log):\n",
    "    return sorted(list(set(functools.reduce(lambda x, y: x+y, input_log))))\n",
    "@time_logger\n",
    "def return_unique_activities_with_basic(input_log):\n",
    "    uniq_act = []\n",
    "    for trace in input_log:\n",
    "        for act in trace:\n",
    "            if act in uniq_act:\n",
    "                continue\n",
    "            else:\n",
    "                uniq_act.append(act)\n",
    "    return uniq_act\n",
    "\n",
    "print( return_unique_activities(test_log) )\n",
    "print( return_unique_activities_with_reduce(test_log) ) \n",
    "print( return_unique_activities_with_basic(test_log) )"
   ]
  },
  {
   "cell_type": "markdown",
   "metadata": {},
   "source": [
    "- 그래서, 가장 빠른 놈을 사용하기로 합니다. "
   ]
  },
  {
   "cell_type": "code",
   "execution_count": 336,
   "metadata": {
    "collapsed": true
   },
   "outputs": [],
   "source": [
    "return_unique_activities = return_unique_activities_with_basic"
   ]
  },
  {
   "cell_type": "markdown",
   "metadata": {},
   "source": [
    "## causality matrix\n",
    "- causality matrix: 액티비티 간의 관계를 표현한 매트릭스\n",
    "    - `->`: direct succession\n",
    "    - `||`: parellel\n",
    "    - `->`: reverse direct succession\n",
    "    - `#` : no relation "
   ]
  },
  {
   "cell_type": "markdown",
   "metadata": {},
   "source": [
    "- trace에서 연속된 act1, act2를 모두 뽑아서, return 해주는 함수"
   ]
  },
  {
   "cell_type": "code",
   "execution_count": 337,
   "metadata": {
    "collapsed": true
   },
   "outputs": [],
   "source": [
    "def return_all_direct_succession(input_log):\n",
    "    return [ (instance[i], instance[i+1]) for instance in input_log for i in range(0, len(instance)-1) ]"
   ]
  },
  {
   "cell_type": "markdown",
   "metadata": {},
   "source": [
    "- `causality matrix`를 리턴해주는 함수 \n",
    "    - 이 함수의 경우는 `pd.DataFrame`를 리턴해줍니다. 여기서 문제는 \n",
    "    - 2-dim dictionary를 `pd.DataFrame` 로 변환할 때, 상위 key가 column name으로, 하위 key가 row index로 변환됩니다. \n",
    "        - 상위 키: from activity, 하위 키: to activity\n",
    "    - 그런데, 우리의 경우 해당 테이블에서, 왼쪽이 from, 오른쪽이 to 이므로, `transpose()`로 변환해서 리턴합니다. "
   ]
  },
  {
   "cell_type": "code",
   "execution_count": 338,
   "metadata": {},
   "outputs": [
    {
     "name": "stdout",
     "output_type": "stream",
     "text": [
      "computation time: 0.0\n"
     ]
    },
    {
     "data": {
      "text/html": [
       "<div>\n",
       "<style>\n",
       "    .dataframe thead tr:only-child th {\n",
       "        text-align: right;\n",
       "    }\n",
       "\n",
       "    .dataframe thead th {\n",
       "        text-align: left;\n",
       "    }\n",
       "\n",
       "    .dataframe tbody tr th {\n",
       "        vertical-align: top;\n",
       "    }\n",
       "</style>\n",
       "<table border=\"1\" class=\"dataframe\">\n",
       "  <thead>\n",
       "    <tr style=\"text-align: right;\">\n",
       "      <th></th>\n",
       "      <th>a</th>\n",
       "      <th>b</th>\n",
       "      <th>c</th>\n",
       "      <th>d</th>\n",
       "      <th>e</th>\n",
       "      <th>f</th>\n",
       "    </tr>\n",
       "  </thead>\n",
       "  <tbody>\n",
       "    <tr>\n",
       "      <th>a</th>\n",
       "      <td>#</td>\n",
       "      <td>-&gt;</td>\n",
       "      <td>#</td>\n",
       "      <td>#</td>\n",
       "      <td>-&gt;</td>\n",
       "      <td>#</td>\n",
       "    </tr>\n",
       "    <tr>\n",
       "      <th>b</th>\n",
       "      <td>&lt;-</td>\n",
       "      <td>#</td>\n",
       "      <td>-&gt;</td>\n",
       "      <td>&lt;-</td>\n",
       "      <td>||</td>\n",
       "      <td>-&gt;</td>\n",
       "    </tr>\n",
       "    <tr>\n",
       "      <th>c</th>\n",
       "      <td>#</td>\n",
       "      <td>&lt;-</td>\n",
       "      <td>#</td>\n",
       "      <td>-&gt;</td>\n",
       "      <td>||</td>\n",
       "      <td>#</td>\n",
       "    </tr>\n",
       "    <tr>\n",
       "      <th>d</th>\n",
       "      <td>#</td>\n",
       "      <td>-&gt;</td>\n",
       "      <td>&lt;-</td>\n",
       "      <td>#</td>\n",
       "      <td>||</td>\n",
       "      <td>#</td>\n",
       "    </tr>\n",
       "    <tr>\n",
       "      <th>e</th>\n",
       "      <td>&lt;-</td>\n",
       "      <td>||</td>\n",
       "      <td>||</td>\n",
       "      <td>||</td>\n",
       "      <td>#</td>\n",
       "      <td>-&gt;</td>\n",
       "    </tr>\n",
       "    <tr>\n",
       "      <th>f</th>\n",
       "      <td>#</td>\n",
       "      <td>&lt;-</td>\n",
       "      <td>#</td>\n",
       "      <td>#</td>\n",
       "      <td>&lt;-</td>\n",
       "      <td>#</td>\n",
       "    </tr>\n",
       "  </tbody>\n",
       "</table>\n",
       "</div>"
      ],
      "text/plain": [
       "    a   b   c   d   e   f\n",
       "a   #  ->   #   #  ->   #\n",
       "b  <-   #  ->  <-  ||  ->\n",
       "c   #  <-   #  ->  ||   #\n",
       "d   #  ->  <-   #  ||   #\n",
       "e  <-  ||  ||  ||   #  ->\n",
       "f   #  <-   #   #  <-   #"
      ]
     },
     "execution_count": 338,
     "metadata": {},
     "output_type": "execute_result"
    }
   ],
   "source": [
    "def causality_matrix(input_log):\n",
    "    uniq_activity = return_unique_activities(input_log)\n",
    "    dir_successions = return_all_direct_succession(input_log)\n",
    "    \n",
    "    causality_matrix = { key1: {}for key1 in uniq_activity}\n",
    "    for a1 in uniq_activity:\n",
    "        for a2 in uniq_activity:\n",
    "            if (a1, a2) in dir_successions and (a2, a1) in dir_successions:\n",
    "                causality_matrix[a1][a2]=\"||\"\n",
    "            elif (a1, a2) in dir_successions and (a2, a1) not in dir_successions:\n",
    "                causality_matrix[a1][a2]=\"->\"\n",
    "            elif (a1, a2) not in dir_successions and (a2, a1) in dir_successions:\n",
    "                causality_matrix[a1][a2]=\"<-\"\n",
    "            else:\n",
    "                causality_matrix[a1][a2]=\"#\"\n",
    "    return pd.DataFrame(causality_matrix).transpose()\n",
    "    # 2-dim dictionary 를 pd.DataFrame로 변환할 때, 상위 키가 column name으로, 하위 키가 row_name으로 감\n",
    "    # 따라서, 리턴할 때는 transpose로 변환해주는 것이 필요함. \n",
    "causality_matrix(log5)"
   ]
  },
  {
   "cell_type": "markdown",
   "metadata": {},
   "source": [
    "## pd.DataFrame indexing\n",
    "- 그냥 indexing하면, column index => row index로 진행됨\n",
    "- `.loc()`를 붙이고 indexing해야, row index => column index"
   ]
  },
  {
   "cell_type": "code",
   "execution_count": 339,
   "metadata": {},
   "outputs": [
    {
     "name": "stdout",
     "output_type": "stream",
     "text": [
      "computation time: 0.0\n",
      "    a   b   c   d   e   f\n",
      "a   #  ->   #   #  ->   #\n",
      "b  <-   #  ->  <-  ||  ->\n",
      "c   #  <-   #  ->  ||   #\n",
      "d   #  ->  <-   #  ||   #\n",
      "e  <-  ||  ||  ||   #  ->\n",
      "f   #  <-   #   #  <-   #\n",
      "<-\n",
      "->\n",
      "Index(['a', 'b', 'c', 'd', 'e', 'f'], dtype='object')\n",
      "Index(['a', 'b', 'c', 'd', 'e', 'f'], dtype='object')\n"
     ]
    }
   ],
   "source": [
    "a = causality_matrix(log5)\n",
    "\n",
    "print(a)\n",
    "print( a['a']['b'])\n",
    "print( a.loc()['a']['b'])\n",
    "print( a.index )\n",
    "print( a.columns )"
   ]
  },
  {
   "cell_type": "markdown",
   "metadata": {},
   "source": [
    "## alpha algorithm\n",
    "\n",
    "- 자 이제 알파알고리즘을 만들어 봅시다. \n",
    "- 알고리즘에 대해서 자세히 설명 하지는 않겠지만, 대충 이렇습니다. \n",
    "    - Transition: activity\n",
    "    - Place\n",
    "    - Flow\n",
    "- 설명하기 귀찮으니까 그냥 안할게요..."
   ]
  },
  {
   "cell_type": "code",
   "execution_count": 340,
   "metadata": {
    "collapsed": true
   },
   "outputs": [],
   "source": [
    "def return_transitions(input_log):\n",
    "    T_L = return_unique_activities(input_log)\n",
    "    T_I = list(set( [instance[0] for instance in input_log]))\n",
    "    T_O = list(set( [instance[-1] for instance in input_log]))\n",
    "    return (T_L, T_I, T_O)"
   ]
  },
  {
   "cell_type": "markdown",
   "metadata": {},
   "source": [
    "- place를 뽑기 위해서는 우선, 어떤 transion들이 어떤 transition들로 연속되는가를 알아야 합니다. \n",
    "- 이를 위해서는 우선 transition의 가능한 모든 subset을 뽑는게 필요하죠. \n",
    "    - subset1 => subset2인 모든 가능한 경우를 뽑아야 합니다. \n",
    "- 이를 위해 우선, 가능한 모든 subset을 리턴해주는 함수를 만듭니다. "
   ]
  },
  {
   "cell_type": "code",
   "execution_count": 341,
   "metadata": {
    "collapsed": true
   },
   "outputs": [],
   "source": [
    "def find_subsets(lst):\n",
    "    # A, B 내부 집단의 a끼리, b끼리는 관계가 없고, 모든 a, 모든 b 간에는 direct succession이 있는 것들\n",
    "    subsets = [list(ittls.combinations(lst, i)) for i in range(1, len(lst)+1)]\n",
    "    subsets = functools.reduce(lambda x, y: x+y, subsets)\n",
    "    return subsets"
   ]
  },
  {
   "cell_type": "markdown",
   "metadata": {},
   "source": [
    "- 그 다음에는 place가 될 수 있는 subset을 뽑습니다. \n",
    "    - subset A, B에서 A의 모든 a와 B의 모든 b 간에는 direct relation이 있어야 하고\n",
    "    - 개별 subset에서 각각 A, B에서 a끼리는 모두 #이어야 하고, b끼리고 모두 #이어야 합니다."
   ]
  },
  {
   "cell_type": "code",
   "execution_count": 342,
   "metadata": {
    "collapsed": true
   },
   "outputs": [],
   "source": [
    "def return_X_L(input_log):\n",
    "    T_L, T_I, T_O = return_transitions(input_log)\n",
    "    c_matrix = causality_matrix(input_log)\n",
    "    A_s = find_subsets(T_L)[:-1]# remove last item\n",
    "    AB_s = [(A, B) for A in A_s for B in find_subsets( list(set(T_L) - set(A)) )]\n",
    "    def check_direction(A, B):\n",
    "        return all( c_matrix.loc()[a][b]==\"->\" for a in A for b in B)\n",
    "    def check_no_relation(A, B):\n",
    "        return all( c_matrix.loc()[a][b]==\"#\" for a in A for b in B)\n",
    "    AB_s = filter(lambda AB: check_direction(AB[0], AB[1]), AB_s)\n",
    "    AB_s = filter(lambda AB: check_no_relation(AB[0], AB[0]), AB_s)\n",
    "    AB_s = filter(lambda AB: check_no_relation(AB[1], AB[1]), AB_s)\n",
    "    X_L = list(AB_s)\n",
    "    return X_L"
   ]
  },
  {
   "cell_type": "markdown",
   "metadata": {},
   "source": [
    "### return_Y_L\n",
    "- 이제 가능한 모든 place, X_L을 모두 만들었는데, X_L의 element, x에도 subset이 있을 수 있습니다. \n",
    "    - ((a), (b))는 ((a, c), (b))의 subset이죠. 그래서 이러한 subset을 모두 없애고, ((a, c), (b))만 남기면 X_L 이 Y_L이 됩니다. "
   ]
  },
  {
   "cell_type": "code",
   "execution_count": 343,
   "metadata": {
    "collapsed": true
   },
   "outputs": [],
   "source": [
    "def return_Y_L(input_log):\n",
    "    # make it maximal\n",
    "    X_L = return_X_L(input_log)\n",
    "    Y_L = X_L.copy()\n",
    "    remove_lst =[]\n",
    "    for i in range(0, len(X_L)-1):\n",
    "        for j in range(i+1, len(X_L)):\n",
    "            if set(X_L[i][0]).issubset(set(X_L[j][0])):\n",
    "                if set(X_L[i][1]).issubset(set(X_L[j][1])):\n",
    "                    if X_L[i] not in remove_lst:\n",
    "                        remove_lst.append(X_L[i])\n",
    "    for rem_elem in remove_lst:\n",
    "        Y_L.remove(rem_elem)\n",
    "    return Y_L"
   ]
  },
  {
   "cell_type": "markdown",
   "metadata": {},
   "source": [
    "### return_P_L\n",
    "\n",
    "- 따라서, Y_L이 각각 place가 됩니다. \n",
    "    - 그리고, P_L에서 attribute dictionary에 해당 place가 어떤 transition들로부터 연결되어, 어떤 transition들로 연결되어 가는지를 함께 저장해줍니다. \n",
    "    - 이렇게 해놓아야, 이후 Flow에서 활용할 수 있습니다. \n",
    "- 각 place 이름을  순서대로, P1,P2,...로 정하고, sink, source를 추가해줍니다. "
   ]
  },
  {
   "cell_type": "code",
   "execution_count": 344,
   "metadata": {
    "collapsed": true
   },
   "outputs": [],
   "source": [
    "def return_P_L(input_log):\n",
    "    T_L, T_I, T_O = return_transitions(input_log)\n",
    "    Y_L = return_Y_L(input_log)\n",
    "    P_L = [(\"P\"+str(i+1), {\"From\":Y_L[i][0], \"To\":Y_L[i][1]}) for i in range(0, len(Y_L))]\n",
    "    P_L.insert(0, (\"source\", {\"From\":(), \"To\":[elem for elem in T_I]}))\n",
    "    P_L.append((\"sink\", {\"From\":[elem for elem in T_O], \"To\":()}))\n",
    "    return P_L"
   ]
  },
  {
   "cell_type": "markdown",
   "metadata": {},
   "source": [
    "### return_F_L\n",
    "- P_L에 저장해준 attr_dict를 통해 place와 transition간의 edge를 모두 도출하고 리스트로 만들어 리턴해줍니다. "
   ]
  },
  {
   "cell_type": "code",
   "execution_count": 345,
   "metadata": {
    "collapsed": true
   },
   "outputs": [],
   "source": [
    "def return_F_L(input_log):\n",
    "    P_L = return_P_L(input_log)\n",
    "    F_L = [(a, p_name) for p_name, p_attr in P_L for a in p_attr[\"From\"]]\n",
    "    F_L +=[(p_name, a) for p_name, p_attr in P_L for a in p_attr[\"To\"]]\n",
    "    return F_L"
   ]
  },
  {
   "cell_type": "markdown",
   "metadata": {},
   "source": [
    "### alpha_algorithm\n",
    "\n",
    "- 지금까지 만든 함수를 모두 만들어서 돌려줍니당 호호"
   ]
  },
  {
   "cell_type": "code",
   "execution_count": 346,
   "metadata": {},
   "outputs": [
    {
     "name": "stdout",
     "output_type": "stream",
     "text": [
      "computation time: 0.0\n",
      "computation time: 0.0\n",
      "computation time: 0.0\n",
      "computation time: 0.0\n",
      "computation time: 0.0\n",
      "computation time: 0.0\n",
      "computation time: 0.0\n",
      "Places:\n",
      "[('source', {'To': ['a'], 'From': ()}), ('P1', {'To': ('e',), 'From': ('a',)}), ('P2', {'To': ('f', 'c'), 'From': ('b',)}), ('P3', {'To': ('f',), 'From': ('e',)}), ('P4', {'To': ('d',), 'From': ('c',)}), ('P5', {'To': ('b',), 'From': ('a', 'd')}), ('sink', {'To': (), 'From': ['f']})]\n",
      "Transitions:\n",
      "['a', 'b', 'e', 'f', 'c', 'd']\n",
      "Flows:\n",
      "[('a', 'P1'), ('b', 'P2'), ('e', 'P3'), ('c', 'P4'), ('a', 'P5'), ('d', 'P5'), ('f', 'sink'), ('source', 'a'), ('P1', 'e'), ('P2', 'f'), ('P2', 'c'), ('P3', 'f'), ('P4', 'd'), ('P5', 'b')]\n"
     ]
    }
   ],
   "source": [
    "def alpha_algorithm(input_log):\n",
    "    T_L, T_I, T_O = return_transitions(input_log)\n",
    "    P_L = return_P_L(input_log)\n",
    "    F_L = return_F_L(input_log)\n",
    "\n",
    "    return (P_L, T_L, F_L)\n",
    "                \n",
    "        \n",
    "P_L, T_L, F_L = alpha_algorithm(log5)\n",
    "print(\"Places:\")\n",
    "print(P_L)\n",
    "print(\"Transitions:\")\n",
    "print(T_L)\n",
    "print(\"Flows:\")\n",
    "print(F_L)"
   ]
  },
  {
   "cell_type": "markdown",
   "metadata": {},
   "source": [
    "### make directional Graph from P, T, F\n",
    "\n",
    "- 이제 Place, transition, flow로부터 graph를 만들어줍니다 \n",
    "- nx.DiGraph()는 방향성이 있는 그래프이고, 따라서, petri-net같은 자료를 저장하기 좋습니다. "
   ]
  },
  {
   "cell_type": "code",
   "execution_count": 347,
   "metadata": {},
   "outputs": [
    {
     "name": "stdout",
     "output_type": "stream",
     "text": [
      "computation time: 0.0\n",
      "computation time: 0.0\n",
      "computation time: 0.0\n",
      "computation time: 0.0\n",
      "computation time: 0.0\n",
      "computation time: 0.0\n",
      "computation time: 0.0\n"
     ]
    },
    {
     "data": {
      "text/plain": [
       "[('e', {'Type': 'transition'}),\n",
       " ('b', {'Type': 'transition'}),\n",
       " ('source', {'Type': 'place'}),\n",
       " ('sink', {'Type': 'place'}),\n",
       " ('c', {'Type': 'transition'}),\n",
       " ('P1', {'Type': 'place'}),\n",
       " ('P3', {'Type': 'place'}),\n",
       " ('f', {'Type': 'transition'}),\n",
       " ('P5', {'Type': 'place'}),\n",
       " ('d', {'Type': 'transition'}),\n",
       " ('a', {'Type': 'transition'}),\n",
       " ('P2', {'Type': 'place'}),\n",
       " ('P4', {'Type': 'place'})]"
      ]
     },
     "execution_count": 347,
     "metadata": {},
     "output_type": "execute_result"
    }
   ],
   "source": [
    "P_L, T_L, F_L = alpha_algorithm(log5)\n",
    "\n",
    "import networkx as nx\n",
    "DG = nx.DiGraph()\n",
    "DG.add_nodes_from([(T, {\"Type\":\"transition\"}) for T in T_L])\n",
    "DG.add_nodes_from([ (P[0], {\"Type\":\"place\"}) for P in P_L])\n",
    "DG.add_edges_from(F_L)\n",
    "DG.nodes(data=True)"
   ]
  },
  {
   "cell_type": "markdown",
   "metadata": {},
   "source": [
    "## 이제 그림을 그려봅시다 \n",
    "\n",
    "- position: 개별 점들이 어디에 위치해야 하는가? \n",
    "    - 그래프를 그릴 때는 점들의 포지션이 어디에 있어야 하는지가 중요합니다. 이를 layout이라고 하는데, 어떻게 표현해줘야 심미적으로 이쁠까? 혹은 사람이 직관적으로 이해할까? 는 매우 중요한 이슈죠. \n",
    "    - 저는 그냥 nx.spectral_layout을 이용해서 그렸습니다. \n",
    "- edge: nx.draw_networkx_edges로 일괄적으로 그려줍니다. \n",
    "    - default 화살표가 썩 마음에 들지는 않지만 어쩔수 없습니다. \n",
    "        - 이건 제가 밑에서 다른 방식을 하나 더 소개시켜드릴게요. \n",
    "- node: 노드의 경우, transition, place 별로 모양이 다르고, place도 sink, source도 다르게 표현해주기 위해서, 개별적으로 그려줍니다. \n",
    "    - `plt.scatter`를 활용해서 매번 점을 하나씩 찍어줍니다. "
   ]
  },
  {
   "cell_type": "code",
   "execution_count": 348,
   "metadata": {
    "collapsed": true
   },
   "outputs": [],
   "source": [
    "def draw_petri_net(DG, node_pos):\n",
    "    plt.figure(figsize=(10, 10))\n",
    "    pos = node_pos\n",
    "    node_size_lst = [ 100 if node[0]!=\"source\" and node[0]!=\"sink\" else 500 for node in DG.nodes(data=True)]\n",
    "    node_shape_lst = [ \"o\" if node[1][\"Type\"]==\"place\" else \"s\" for node in DG.nodes(data=True)]\n",
    "\n",
    "    nx.draw_networkx_edges(DG, pos)\n",
    "    nx.draw_networkx_labels(DG, pos, font_color='white')\n",
    "    for node in DG.nodes(data=True):\n",
    "        node_shape = \"s\" if node[1][\"Type\"]==\"transition\" else \"o\"\n",
    "        node_color = \"blue\" if node[1][\"Type\"]==\"transition\" else \"red\" if node[0]==\"sink\" or node[0]==\"source\" else \"green\"\n",
    "        node_size  = 500 if node[0]!=\"source\" and node[0]!=\"sink\" else 1500\n",
    "        plt.scatter(pos[node[0]][0], pos[node[0]][1], s=node_size, c=node_color, marker=node_shape)\n",
    "        #nx.draw_networkx_nodes(DG, pos[node[0]], nodelist=node)\n",
    "    plt.axis('off')\n",
    "    plt.show()"
   ]
  },
  {
   "cell_type": "code",
   "execution_count": 349,
   "metadata": {},
   "outputs": [
    {
     "data": {
      "image/png": "[encoded data removed]",
      "text/plain": [
       "<matplotlib.figure.Figure at 0x220671fee10>"
      ]
     },
     "metadata": {},
     "output_type": "display_data"
    }
   ],
   "source": [
    "draw_petri_net(DG, nx.shell_layout(DG))"
   ]
  },
  {
   "cell_type": "code",
   "execution_count": 350,
   "metadata": {},
   "outputs": [
    {
     "data": {
      "image/png": "[encoded data removed]",
      "text/plain": [
       "<matplotlib.figure.Figure at 0x22065123470>"
      ]
     },
     "metadata": {},
     "output_type": "display_data"
    }
   ],
   "source": [
    "draw_petri_net(DG, nx.spectral_layout(DG))"
   ]
  },
  {
   "cell_type": "markdown",
   "metadata": {},
   "source": [
    "## arrow \n",
    "- `nx.draw_networkx_edges(DG, pos)`에서는 edge가 예쁘게 그려지지는 않는 것 같아요\n",
    "- `matplotlib`에 있는 `ax.arrow`를 활용해서 그려봅니다. \n",
    "    - arrow 의 경우는, vector처럼, (x, y, dx, dy, head_width, head_length) 로 조절합니다. \n",
    "    - 사실 이 부분때문에 node위에 arrow가 그려지는 경우가 많아서 조금 불편하긴 해요.\n",
    "        - 이걸 좀 고쳐보고 싶었는데 잘 안되네요...ㅠㅠ\n",
    "        - http://matthiaseisen.com/matplotlib/shapes/arrow/"
   ]
  },
  {
   "cell_type": "code",
   "execution_count": 351,
   "metadata": {},
   "outputs": [
    {
     "data": {
      "image/png": "[encoded data removed]",
      "text/plain": [
       "<matplotlib.figure.Figure at 0x2206590dc88>"
      ]
     },
     "metadata": {},
     "output_type": "display_data"
    }
   ],
   "source": [
    "def draw_petri_net_arrow(DG, node_pos):\n",
    "    import matplotlib.patches as patches\n",
    "    plt.figure(figsize=(10, 10))\n",
    "    pos = node_pos\n",
    "    node_size_lst = [ 100 if node[0]!=\"source\" and node[0]!=\"sink\" else 500 for node in DG.nodes(data=True)]\n",
    "    node_shape_lst = [ \"o\" if node[1][\"Type\"]==\"place\" else \"s\" for node in DG.nodes(data=True)]\n",
    "        \n",
    "    #nx.draw_networkx_labels(DG, pos, font_color='white')\n",
    "    ax = plt.gca()\n",
    "    for node in DG.nodes(data=True):\n",
    "        node_shape = \"s\" if node[1][\"Type\"]==\"transition\" else \"o\"\n",
    "        node_color = \"blue\" if node[1][\"Type\"]==\"transition\" else \"red\" if node[0]==\"sink\" or node[0]==\"source\" else \"green\"\n",
    "        node_size  = 500 if node[0]!=\"source\" and node[0]!=\"sink\" else 1500\n",
    "        plt.scatter(pos[node[0]][0], pos[node[0]][1], s=node_size, c=node_color, marker=node_shape)\n",
    "        \n",
    "        font_size  = 20 if node[1][\"Type\"]==\"transition\" else 15\n",
    "        ax.annotate(node[0], xy=(pos[node[0]][0], pos[node[0]][1]), xytext=(pos[node[0]][0], pos[node[0]][1]),\n",
    "                    fontsize=font_size, horizontalalignment='center', verticalalignment='center')\n",
    "        #nx.draw_networkx_nodes(DG, pos[node[0]], nodelist=node)\n",
    "        \n",
    "    #ax.add_patch( patches.Arrow(0.3, 0.2, 0, 0.5, width=0.1, hatch='/') )\n",
    "    for edge in DG.edges(data=True):\n",
    "        from_node = pos[edge[0]]\n",
    "        to_node = pos[edge[1]]\n",
    "        x, y = from_node[0], from_node[1]\n",
    "        dx, dy = to_node[0] - from_node[0], to_node[1] - from_node[1]\n",
    "        #arr1 = ax.arrow(x, y, dx*0.9, dy*0.9, head_width=0.02, head_length=0.02, fc='k', ec='k')\n",
    "        arr2 = patches.Arrow(x, y, dx, dy, width=0.05, alpha=0.7) \n",
    "        ax.add_patch(arr2)\n",
    "    plt.axis('off')\n",
    "    plt.show()\n",
    "draw_petri_net_arrow(DG, nx.spectral_layout(DG))"
   ]
  },
  {
   "cell_type": "markdown",
   "metadata": {},
   "source": [
    "## 그리고.\n",
    "\n",
    "- 엄청 복잡한, 그래서 액티비티의 수가 엄청 많은 경우에도 해당 그림이 예쁘게 잘 그려질까요??\n",
    "    - 그때 적합한 layout은 무엇이 있을까요. \n",
    "- 지금은 가장 간단한 알파 알고리즘을 구현했습니다. "
   ]
  }
 ],
 "metadata": {
  "kernelspec": {
   "display_name": "Python [conda root]",
   "language": "python",
   "name": "conda-root-py"
  },
  "language_info": {
   "codemirror_mode": {
    "name": "ipython",
    "version": 3
   },
   "file_extension": ".py",
   "mimetype": "text/x-python",
   "name": "python",
   "nbconvert_exporter": "python",
   "pygments_lexer": "ipython3",
   "version": "3.5.3"
  }
 },
 "nbformat": 4,
 "nbformat_minor": 2
}
